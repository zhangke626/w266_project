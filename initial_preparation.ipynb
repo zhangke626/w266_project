{
 "cells": [
  {
   "cell_type": "markdown",
   "id": "98fa6790",
   "metadata": {},
   "source": [
    "# All the News 2.0 contains 2,688,878 news articles and essays from 27 American publications, spanning January 1, 2016 to April 2, 2020\n",
    "### Here we will be sampling 200 articles on USA political news, which will be used to train the ML model"
   ]
  },
  {
   "cell_type": "markdown",
   "id": "ba7104c2",
   "metadata": {},
   "source": [
    "https://components.one/datasets/all-the-news-2-news-articles-dataset/"
   ]
  },
  {
   "cell_type": "code",
   "execution_count": 1,
   "id": "d35517a7",
   "metadata": {},
   "outputs": [],
   "source": [
    "import pandas as pd\n",
    "import numpy as np"
   ]
  },
  {
   "cell_type": "code",
   "execution_count": 2,
   "id": "c0f14a2a",
   "metadata": {},
   "outputs": [],
   "source": [
    "path = r\"C:\\Users\\ez4ke.KDAWG\\Desktop\\MIDS\\DATASCI 266\\all-the-news-2-1\\all-the-news-2-1.csv\"\n",
    "df_raw = pd.read_csv(path)"
   ]
  },
  {
   "cell_type": "code",
   "execution_count": 3,
   "id": "b5ef2a08",
   "metadata": {
    "scrolled": true
   },
   "outputs": [
    {
     "data": {
      "text/html": [
       "<div>\n",
       "<style scoped>\n",
       "    .dataframe tbody tr th:only-of-type {\n",
       "        vertical-align: middle;\n",
       "    }\n",
       "\n",
       "    .dataframe tbody tr th {\n",
       "        vertical-align: top;\n",
       "    }\n",
       "\n",
       "    .dataframe thead th {\n",
       "        text-align: right;\n",
       "    }\n",
       "</style>\n",
       "<table border=\"1\" class=\"dataframe\">\n",
       "  <thead>\n",
       "    <tr style=\"text-align: right;\">\n",
       "      <th></th>\n",
       "      <th>date</th>\n",
       "      <th>year</th>\n",
       "      <th>month</th>\n",
       "      <th>day</th>\n",
       "      <th>author</th>\n",
       "      <th>title</th>\n",
       "      <th>article</th>\n",
       "      <th>url</th>\n",
       "      <th>section</th>\n",
       "      <th>publication</th>\n",
       "    </tr>\n",
       "  </thead>\n",
       "  <tbody>\n",
       "    <tr>\n",
       "      <th>0</th>\n",
       "      <td>2016-12-09 18:31:00</td>\n",
       "      <td>2016</td>\n",
       "      <td>12.0</td>\n",
       "      <td>9</td>\n",
       "      <td>Lee Drutman</td>\n",
       "      <td>We should take concerns about the health of li...</td>\n",
       "      <td>This post is part of Polyarchy, an independent...</td>\n",
       "      <td>https://www.vox.com/polyarchy/2016/12/9/138983...</td>\n",
       "      <td>NaN</td>\n",
       "      <td>Vox</td>\n",
       "    </tr>\n",
       "    <tr>\n",
       "      <th>1</th>\n",
       "      <td>2016-10-07 21:26:46</td>\n",
       "      <td>2016</td>\n",
       "      <td>10.0</td>\n",
       "      <td>7</td>\n",
       "      <td>Scott Davis</td>\n",
       "      <td>Colts GM Ryan Grigson says Andrew Luck's contr...</td>\n",
       "      <td>The Indianapolis Colts made Andrew Luck the h...</td>\n",
       "      <td>https://www.businessinsider.com/colts-gm-ryan-...</td>\n",
       "      <td>NaN</td>\n",
       "      <td>Business Insider</td>\n",
       "    </tr>\n",
       "    <tr>\n",
       "      <th>2</th>\n",
       "      <td>2018-01-26 00:00:00</td>\n",
       "      <td>2018</td>\n",
       "      <td>1.0</td>\n",
       "      <td>26</td>\n",
       "      <td>NaN</td>\n",
       "      <td>Trump denies report he ordered Mueller fired</td>\n",
       "      <td>DAVOS, Switzerland (Reuters) - U.S. President ...</td>\n",
       "      <td>https://www.reuters.com/article/us-davos-meeti...</td>\n",
       "      <td>Davos</td>\n",
       "      <td>Reuters</td>\n",
       "    </tr>\n",
       "    <tr>\n",
       "      <th>3</th>\n",
       "      <td>2019-06-27 00:00:00</td>\n",
       "      <td>2019</td>\n",
       "      <td>6.0</td>\n",
       "      <td>27</td>\n",
       "      <td>NaN</td>\n",
       "      <td>France's Sarkozy reveals his 'Passions' but in...</td>\n",
       "      <td>PARIS (Reuters) - Former French president Nico...</td>\n",
       "      <td>https://www.reuters.com/article/france-politic...</td>\n",
       "      <td>World News</td>\n",
       "      <td>Reuters</td>\n",
       "    </tr>\n",
       "    <tr>\n",
       "      <th>4</th>\n",
       "      <td>2016-01-27 00:00:00</td>\n",
       "      <td>2016</td>\n",
       "      <td>1.0</td>\n",
       "      <td>27</td>\n",
       "      <td>NaN</td>\n",
       "      <td>Paris Hilton: Woman In Black For Uncle Monty's...</td>\n",
       "      <td>Paris Hilton arrived at LAX Wednesday dressed ...</td>\n",
       "      <td>https://www.tmz.com/2016/01/27/paris-hilton-mo...</td>\n",
       "      <td>NaN</td>\n",
       "      <td>TMZ</td>\n",
       "    </tr>\n",
       "  </tbody>\n",
       "</table>\n",
       "</div>"
      ],
      "text/plain": [
       "                 date  year  month  day       author  \\\n",
       "0 2016-12-09 18:31:00  2016   12.0    9  Lee Drutman   \n",
       "1 2016-10-07 21:26:46  2016   10.0    7  Scott Davis   \n",
       "2 2018-01-26 00:00:00  2018    1.0   26          NaN   \n",
       "3 2019-06-27 00:00:00  2019    6.0   27          NaN   \n",
       "4 2016-01-27 00:00:00  2016    1.0   27          NaN   \n",
       "\n",
       "                                               title  \\\n",
       "0  We should take concerns about the health of li...   \n",
       "1  Colts GM Ryan Grigson says Andrew Luck's contr...   \n",
       "2       Trump denies report he ordered Mueller fired   \n",
       "3  France's Sarkozy reveals his 'Passions' but in...   \n",
       "4  Paris Hilton: Woman In Black For Uncle Monty's...   \n",
       "\n",
       "                                             article  \\\n",
       "0  This post is part of Polyarchy, an independent...   \n",
       "1   The Indianapolis Colts made Andrew Luck the h...   \n",
       "2  DAVOS, Switzerland (Reuters) - U.S. President ...   \n",
       "3  PARIS (Reuters) - Former French president Nico...   \n",
       "4  Paris Hilton arrived at LAX Wednesday dressed ...   \n",
       "\n",
       "                                                 url     section  \\\n",
       "0  https://www.vox.com/polyarchy/2016/12/9/138983...         NaN   \n",
       "1  https://www.businessinsider.com/colts-gm-ryan-...         NaN   \n",
       "2  https://www.reuters.com/article/us-davos-meeti...       Davos   \n",
       "3  https://www.reuters.com/article/france-politic...  World News   \n",
       "4  https://www.tmz.com/2016/01/27/paris-hilton-mo...         NaN   \n",
       "\n",
       "        publication  \n",
       "0               Vox  \n",
       "1  Business Insider  \n",
       "2           Reuters  \n",
       "3           Reuters  \n",
       "4               TMZ  "
      ]
     },
     "execution_count": 3,
     "metadata": {},
     "output_type": "execute_result"
    }
   ],
   "source": [
    "# cleaning up data\n",
    "\n",
    "columns = ['date', 'title', 'article', 'publication', 'url']\n",
    "df = df_raw.dropna(subset=columns)\n",
    "\n",
    "df = df.drop_duplicates()\n",
    "\n",
    "df['date'] = pd.to_datetime(df['date'])\n",
    "\n",
    "df.head()"
   ]
  },
  {
   "cell_type": "code",
   "execution_count": 5,
   "id": "d6f7be84",
   "metadata": {},
   "outputs": [],
   "source": [
    "# Filter for 2018-2020 articles\n",
    "df_latest = df[df['date'].dt.year.isin([2018, 2019, 2020])]"
   ]
  },
  {
   "cell_type": "code",
   "execution_count": 6,
   "id": "7ca226f6",
   "metadata": {},
   "outputs": [
    {
     "data": {
      "text/plain": [
       "Reuters               428697\n",
       "CNBC                  152788\n",
       "The New York Times    125157\n",
       "The Hill              115294\n",
       "CNN                    76581\n",
       "People                 68602\n",
       "Business Insider       51824\n",
       "Mashable               33505\n",
       "Refinery 29            32434\n",
       "Axios                  32111\n",
       "Vice                   29637\n",
       "TechCrunch             26219\n",
       "TMZ                    25079\n",
       "The Verge              24349\n",
       "Politico               22009\n",
       "Vox                    21920\n",
       "Fox News               17624\n",
       "Buzzfeed News          14617\n",
       "Economist              11268\n",
       "Gizmodo                11128\n",
       "Wired                   9583\n",
       "Hyperallergic           6917\n",
       "Vice News               6414\n",
       "New Republic            4082\n",
       "Washington Post         3228\n",
       "New Yorker              2245\n",
       "Name: publication, dtype: int64"
      ]
     },
     "execution_count": 6,
     "metadata": {},
     "output_type": "execute_result"
    }
   ],
   "source": [
    "df_latest['publication'].value_counts()"
   ]
  },
  {
   "cell_type": "markdown",
   "id": "ed9ab50e",
   "metadata": {},
   "source": [
    "### picked 5 publishers with 2 right-lean: Fox News, and the Hill; 2 left-lean, CNN and New York Times; and Reuter for centrist"
   ]
  },
  {
   "cell_type": "code",
   "execution_count": 7,
   "id": "7b5f5bfe",
   "metadata": {},
   "outputs": [],
   "source": [
    "# picked 5 USA publishers with 2 right-lean, Fox News, and the Hill, \n",
    "# 2 left-lean, CNN and New York Times. Reuter for centrist\n",
    "publications = ['Fox News', 'The Hill', 'The New York Times', 'CNN', 'Reuters']\n",
    "df_us = df_latest[df_latest['publication'].isin(publications)]"
   ]
  },
  {
   "cell_type": "code",
   "execution_count": 8,
   "id": "70a8a68d",
   "metadata": {},
   "outputs": [
    {
     "data": {
      "text/plain": [
       "Reuters               428697\n",
       "The New York Times    125157\n",
       "The Hill              115294\n",
       "CNN                    76581\n",
       "Fox News               17624\n",
       "Name: publication, dtype: int64"
      ]
     },
     "execution_count": 8,
     "metadata": {},
     "output_type": "execute_result"
    }
   ],
   "source": [
    "df_us['publication'].value_counts()"
   ]
  },
  {
   "cell_type": "code",
   "execution_count": 9,
   "id": "f74055ab",
   "metadata": {},
   "outputs": [],
   "source": [
    "# Political keywords \n",
    "political_keywords = ['politic', 'election', 'president', 'congress', 'senate', 'white house', \n",
    "                      'democrat', 'republican', 'trump', 'biden', 'government']\n",
    "\n",
    "# Function to check if any keyword is in the text\n",
    "def contains_political(text):\n",
    "    if isinstance(text, str):\n",
    "        return any(keyword in text.lower() for keyword in political_keywords)\n",
    "    return False\n",
    "\n",
    "# Filter for political content in title or content\n",
    "df_political = df_us[df_us['title'].apply(contains_political) | \n",
    "                     df_us['article'].apply(contains_political)]"
   ]
  },
  {
   "cell_type": "code",
   "execution_count": 11,
   "id": "553e3903",
   "metadata": {},
   "outputs": [
    {
     "data": {
      "text/plain": [
       "Reuters               191253\n",
       "The Hill              103463\n",
       "The New York Times     78314\n",
       "CNN                    50843\n",
       "Fox News                7814\n",
       "Name: publication, dtype: int64"
      ]
     },
     "execution_count": 11,
     "metadata": {},
     "output_type": "execute_result"
    }
   ],
   "source": [
    "df_political['publication'].value_counts()"
   ]
  },
  {
   "cell_type": "code",
   "execution_count": 12,
   "id": "6daf1ea4",
   "metadata": {},
   "outputs": [],
   "source": [
    "num_samples = 40\n",
    "\n",
    "# Function to sample articles\n",
    "def sample_articles(df, publication, num_samples):\n",
    "    return df[df['publication'] == publication].sample(n=num_samples, random_state=1)\n",
    "\n",
    "df_samples = pd.DataFrame()\n",
    "for pub in publications:\n",
    "    df_samples = pd.concat([df_samples, sample_articles(df_political, pub, num_samples)], ignore_index=True)"
   ]
  },
  {
   "cell_type": "code",
   "execution_count": 13,
   "id": "ec24552f",
   "metadata": {},
   "outputs": [
    {
     "data": {
      "text/plain": [
       "Fox News              40\n",
       "The Hill              40\n",
       "The New York Times    40\n",
       "CNN                   40\n",
       "Reuters               40\n",
       "Name: publication, dtype: int64"
      ]
     },
     "execution_count": 13,
     "metadata": {},
     "output_type": "execute_result"
    }
   ],
   "source": [
    "df_samples['publication'].value_counts()"
   ]
  },
  {
   "cell_type": "code",
   "execution_count": 14,
   "id": "4c505416",
   "metadata": {},
   "outputs": [
    {
     "data": {
      "text/html": [
       "<div>\n",
       "<style scoped>\n",
       "    .dataframe tbody tr th:only-of-type {\n",
       "        vertical-align: middle;\n",
       "    }\n",
       "\n",
       "    .dataframe tbody tr th {\n",
       "        vertical-align: top;\n",
       "    }\n",
       "\n",
       "    .dataframe thead th {\n",
       "        text-align: right;\n",
       "    }\n",
       "</style>\n",
       "<table border=\"1\" class=\"dataframe\">\n",
       "  <thead>\n",
       "    <tr style=\"text-align: right;\">\n",
       "      <th></th>\n",
       "      <th>date</th>\n",
       "      <th>year</th>\n",
       "      <th>month</th>\n",
       "      <th>day</th>\n",
       "      <th>author</th>\n",
       "      <th>title</th>\n",
       "      <th>article</th>\n",
       "      <th>url</th>\n",
       "      <th>section</th>\n",
       "      <th>publication</th>\n",
       "    </tr>\n",
       "  </thead>\n",
       "  <tbody>\n",
       "    <tr>\n",
       "      <th>0</th>\n",
       "      <td>2018-07-09</td>\n",
       "      <td>2018</td>\n",
       "      <td>7.0</td>\n",
       "      <td>9</td>\n",
       "      <td>Associated Press</td>\n",
       "      <td>Rescuers look through mud for Japan flood vict...</td>\n",
       "      <td>\\n          next\\n         Image 1 of 2 \\n    ...</td>\n",
       "      <td>https://www.foxnews.com/world/rescuers-look-th...</td>\n",
       "      <td>World</td>\n",
       "      <td>Fox News</td>\n",
       "    </tr>\n",
       "    <tr>\n",
       "      <th>1</th>\n",
       "      <td>2018-07-10</td>\n",
       "      <td>2018</td>\n",
       "      <td>7.0</td>\n",
       "      <td>10</td>\n",
       "      <td>Ryan Gaydos</td>\n",
       "      <td>Australian rangers trap gigantic saltwater cro...</td>\n",
       "      <td>\\n          A 15-foot, 1,300-pound saltwater c...</td>\n",
       "      <td>https://www.foxnews.com/world/australian-range...</td>\n",
       "      <td>Reptiles</td>\n",
       "      <td>Fox News</td>\n",
       "    </tr>\n",
       "    <tr>\n",
       "      <th>2</th>\n",
       "      <td>2018-08-01</td>\n",
       "      <td>2018</td>\n",
       "      <td>8.0</td>\n",
       "      <td>1</td>\n",
       "      <td>John Stossel</td>\n",
       "      <td>John Stossel: Are looney liberals and smug cel...</td>\n",
       "      <td>\\n          While restaurant leaders reportedl...</td>\n",
       "      <td>https://www.foxnews.com/opinion/john-stossel-a...</td>\n",
       "      <td>OPINION</td>\n",
       "      <td>Fox News</td>\n",
       "    </tr>\n",
       "    <tr>\n",
       "      <th>3</th>\n",
       "      <td>2018-05-15</td>\n",
       "      <td>2018</td>\n",
       "      <td>5.0</td>\n",
       "      <td>15</td>\n",
       "      <td>Associated Press</td>\n",
       "      <td>UN peacekeeping force to stay, but shrink, in ...</td>\n",
       "      <td>UNITED NATIONS –  U.N. peacekeepers will remai...</td>\n",
       "      <td>https://www.foxnews.com/world/un-peacekeeping-...</td>\n",
       "      <td>World</td>\n",
       "      <td>Fox News</td>\n",
       "    </tr>\n",
       "    <tr>\n",
       "      <th>4</th>\n",
       "      <td>2018-05-17</td>\n",
       "      <td>2018</td>\n",
       "      <td>5.0</td>\n",
       "      <td>17</td>\n",
       "      <td>Associated Press</td>\n",
       "      <td>Trump tells NK's Kim to denuclearize or risk o...</td>\n",
       "      <td>close Video Trump contradicts John Bolton on N...</td>\n",
       "      <td>https://www.foxnews.com/us/trump-tells-nks-kim...</td>\n",
       "      <td>MILITARY</td>\n",
       "      <td>Fox News</td>\n",
       "    </tr>\n",
       "  </tbody>\n",
       "</table>\n",
       "</div>"
      ],
      "text/plain": [
       "        date  year  month  day            author  \\\n",
       "0 2018-07-09  2018    7.0    9  Associated Press   \n",
       "1 2018-07-10  2018    7.0   10       Ryan Gaydos   \n",
       "2 2018-08-01  2018    8.0    1      John Stossel   \n",
       "3 2018-05-15  2018    5.0   15  Associated Press   \n",
       "4 2018-05-17  2018    5.0   17  Associated Press   \n",
       "\n",
       "                                               title  \\\n",
       "0  Rescuers look through mud for Japan flood vict...   \n",
       "1  Australian rangers trap gigantic saltwater cro...   \n",
       "2  John Stossel: Are looney liberals and smug cel...   \n",
       "3  UN peacekeeping force to stay, but shrink, in ...   \n",
       "4  Trump tells NK's Kim to denuclearize or risk o...   \n",
       "\n",
       "                                             article  \\\n",
       "0  \\n          next\\n         Image 1 of 2 \\n    ...   \n",
       "1  \\n          A 15-foot, 1,300-pound saltwater c...   \n",
       "2  \\n          While restaurant leaders reportedl...   \n",
       "3  UNITED NATIONS –  U.N. peacekeepers will remai...   \n",
       "4  close Video Trump contradicts John Bolton on N...   \n",
       "\n",
       "                                                 url   section publication  \n",
       "0  https://www.foxnews.com/world/rescuers-look-th...     World    Fox News  \n",
       "1  https://www.foxnews.com/world/australian-range...  Reptiles    Fox News  \n",
       "2  https://www.foxnews.com/opinion/john-stossel-a...   OPINION    Fox News  \n",
       "3  https://www.foxnews.com/world/un-peacekeeping-...     World    Fox News  \n",
       "4  https://www.foxnews.com/us/trump-tells-nks-kim...  MILITARY    Fox News  "
      ]
     },
     "execution_count": 14,
     "metadata": {},
     "output_type": "execute_result"
    }
   ],
   "source": [
    "df_samples.head()"
   ]
  },
  {
   "cell_type": "code",
   "execution_count": 15,
   "id": "5420d873",
   "metadata": {},
   "outputs": [],
   "source": [
    "df_samples.to_csv(\"sample_news.csv\")"
   ]
  }
 ],
 "metadata": {
  "kernelspec": {
   "display_name": "Python 3 (ipykernel)",
   "language": "python",
   "name": "python3"
  },
  "language_info": {
   "codemirror_mode": {
    "name": "ipython",
    "version": 3
   },
   "file_extension": ".py",
   "mimetype": "text/x-python",
   "name": "python",
   "nbconvert_exporter": "python",
   "pygments_lexer": "ipython3",
   "version": "3.10.9"
  }
 },
 "nbformat": 4,
 "nbformat_minor": 5
}
